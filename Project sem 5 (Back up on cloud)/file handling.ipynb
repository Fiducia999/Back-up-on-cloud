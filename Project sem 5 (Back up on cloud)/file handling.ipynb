{
 "cells": [
  {
   "cell_type": "code",
   "execution_count": 1,
   "id": "7c7494d0",
   "metadata": {},
   "outputs": [
    {
     "name": "stdout",
     "output_type": "stream",
     "text": [
      "Enter your age: 54\n"
     ]
    }
   ],
   "source": [
    "age = input('Enter your age: ')\n",
    "f = open(\"data.txt\",'w')\n",
    "f.write(age)\n",
    "f.close()"
   ]
  },
  {
   "cell_type": "code",
   "execution_count": 2,
   "id": "f256c2f4",
   "metadata": {},
   "outputs": [
    {
     "name": "stdout",
     "output_type": "stream",
     "text": [
      "54\n"
     ]
    }
   ],
   "source": [
    "f = open(\"data.txt\",'r')\n",
    "print(f.read())\n",
    "f.close()"
   ]
  },
  {
   "cell_type": "code",
   "execution_count": null,
   "id": "4c4fd856",
   "metadata": {},
   "outputs": [],
   "source": []
  },
  {
   "cell_type": "code",
   "execution_count": null,
   "id": "b74fb5d8",
   "metadata": {},
   "outputs": [],
   "source": []
  },
  {
   "cell_type": "code",
   "execution_count": 3,
   "id": "366bb924",
   "metadata": {},
   "outputs": [
    {
     "name": "stdout",
     "output_type": "stream",
     "text": [
      "file successfully opened\n"
     ]
    }
   ],
   "source": [
    "f = open('data.txt')\n",
    "if f:\n",
    "    print(\"file successfully opened\")"
   ]
  },
  {
   "cell_type": "code",
   "execution_count": null,
   "id": "6332b082",
   "metadata": {},
   "outputs": [],
   "source": []
  },
  {
   "cell_type": "code",
   "execution_count": null,
   "id": "147299f1",
   "metadata": {},
   "outputs": [],
   "source": []
  },
  {
   "cell_type": "code",
   "execution_count": 10,
   "id": "03a25cbd",
   "metadata": {},
   "outputs": [
    {
     "name": "stdout",
     "output_type": "stream",
     "text": [
      "file successfully opened\n",
      "<class '_io.TextIOWrapper'>\n"
     ]
    }
   ],
   "source": [
    "f = open('C:/Users/Aastha/Project sem 5 (Back up on cloud)/data.txt',mode = 'w')\n",
    "if f:\n",
    "    print(\"file successfully opened\")\n",
    "print(type(f))"
   ]
  },
  {
   "cell_type": "code",
   "execution_count": null,
   "id": "9291dabf",
   "metadata": {},
   "outputs": [],
   "source": []
  },
  {
   "cell_type": "code",
   "execution_count": null,
   "id": "2277e317",
   "metadata": {},
   "outputs": [],
   "source": []
  },
  {
   "cell_type": "code",
   "execution_count": 4,
   "id": "c57a6513",
   "metadata": {},
   "outputs": [
    {
     "name": "stdout",
     "output_type": "stream",
     "text": [
      "opened\n",
      "<_io.TextIOWrapper name='data.txt' mode='r' encoding='utf-8'>\n"
     ]
    }
   ],
   "source": [
    "f = open('data.txt', mode='r', buffering=10, encoding = 'utf-8')\n",
    "if f:\n",
    "    print(\"opened\")\n",
    "print(f)"
   ]
  },
  {
   "cell_type": "code",
   "execution_count": null,
   "id": "69e8b31c",
   "metadata": {},
   "outputs": [],
   "source": []
  },
  {
   "cell_type": "code",
   "execution_count": null,
   "id": "31bd7235",
   "metadata": {},
   "outputs": [],
   "source": []
  },
  {
   "cell_type": "code",
   "execution_count": 5,
   "id": "50ec482b",
   "metadata": {},
   "outputs": [
    {
     "name": "stdout",
     "output_type": "stream",
     "text": [
      "opened\n",
      "<_io.TextIOWrapper name='data.txt' mode='r' encoding='cp1252'>\n"
     ]
    }
   ],
   "source": [
    "f = open('data.txt', mode='r', buffering=10)\n",
    "if f:\n",
    "    print(\"opened\")\n",
    "print(f)"
   ]
  },
  {
   "cell_type": "code",
   "execution_count": null,
   "id": "f1774ef4",
   "metadata": {},
   "outputs": [],
   "source": []
  },
  {
   "cell_type": "code",
   "execution_count": null,
   "id": "7f47917c",
   "metadata": {},
   "outputs": [],
   "source": []
  },
  {
   "cell_type": "code",
   "execution_count": 7,
   "id": "8d28b8a0",
   "metadata": {},
   "outputs": [
    {
     "name": "stdout",
     "output_type": "stream",
     "text": [
      "closed\n"
     ]
    }
   ],
   "source": [
    "f.close()\n",
    "if f:\n",
    "    print(\"closed\")"
   ]
  },
  {
   "cell_type": "code",
   "execution_count": null,
   "id": "ef8de18d",
   "metadata": {},
   "outputs": [],
   "source": []
  },
  {
   "cell_type": "code",
   "execution_count": null,
   "id": "74dc2de0",
   "metadata": {},
   "outputs": [],
   "source": []
  },
  {
   "cell_type": "code",
   "execution_count": 9,
   "id": "cafddb51",
   "metadata": {},
   "outputs": [
    {
     "name": "stdout",
     "output_type": "stream",
     "text": [
      "file name is:  data.txt\n",
      "encoding is:  utf-8\n",
      "mode is:  r\n",
      "status of file:  False\n",
      "status of file:  True\n"
     ]
    }
   ],
   "source": [
    "f = open('data.txt', mode='r', buffering=10, encoding = 'utf-8')\n",
    "print(\"file name is: \",f.name)\n",
    "print(\"encoding is: \",f.encoding)\n",
    "print(\"mode is: \",f.mode)\n",
    "print(\"status of file: \",f.closed)\n",
    "f.close()\n",
    "print(\"status of file: \",f.closed)"
   ]
  },
  {
   "cell_type": "code",
   "execution_count": null,
   "id": "ec99fb21",
   "metadata": {},
   "outputs": [],
   "source": []
  },
  {
   "cell_type": "code",
   "execution_count": null,
   "id": "70ca134a",
   "metadata": {},
   "outputs": [],
   "source": []
  },
  {
   "cell_type": "code",
   "execution_count": 12,
   "id": "9b19137f",
   "metadata": {},
   "outputs": [
    {
     "name": "stdout",
     "output_type": "stream",
     "text": [
      "True\n",
      "False\n"
     ]
    }
   ],
   "source": [
    "f = open(\"data.txt\", mode = 'r')\n",
    "print(f.readable())\n",
    "print(f.writable())\n",
    "f.close()"
   ]
  },
  {
   "cell_type": "code",
   "execution_count": null,
   "id": "816c5868",
   "metadata": {},
   "outputs": [],
   "source": []
  },
  {
   "cell_type": "code",
   "execution_count": null,
   "id": "d7f7d11c",
   "metadata": {},
   "outputs": [],
   "source": []
  },
  {
   "cell_type": "code",
   "execution_count": 13,
   "id": "fdbc8833",
   "metadata": {},
   "outputs": [
    {
     "name": "stdout",
     "output_type": "stream",
     "text": [
      "False\n",
      "True\n"
     ]
    }
   ],
   "source": [
    "f = open(\"data.txt\", mode = 'w')\n",
    "print(f.readable())\n",
    "print(f.writable())\n",
    "f.close()"
   ]
  },
  {
   "cell_type": "code",
   "execution_count": null,
   "id": "2160f8fa",
   "metadata": {},
   "outputs": [],
   "source": []
  },
  {
   "cell_type": "code",
   "execution_count": null,
   "id": "1d8ef0df",
   "metadata": {},
   "outputs": [],
   "source": []
  },
  {
   "cell_type": "code",
   "execution_count": 14,
   "id": "c46b6c54",
   "metadata": {},
   "outputs": [
    {
     "name": "stdout",
     "output_type": "stream",
     "text": [
      "True\n",
      "True\n"
     ]
    }
   ],
   "source": [
    "f = open(\"data.txt\", mode = 'w+')\n",
    "print(f.readable())\n",
    "print(f.writable())\n",
    "f.close()"
   ]
  },
  {
   "cell_type": "code",
   "execution_count": null,
   "id": "b611cf91",
   "metadata": {},
   "outputs": [],
   "source": []
  },
  {
   "cell_type": "code",
   "execution_count": null,
   "id": "8db23bf0",
   "metadata": {},
   "outputs": [],
   "source": []
  },
  {
   "cell_type": "code",
   "execution_count": 15,
   "id": "dfb132ee",
   "metadata": {},
   "outputs": [
    {
     "name": "stdout",
     "output_type": "stream",
     "text": [
      "file is readable\n"
     ]
    }
   ],
   "source": [
    "f = open(\"data.txt\")\n",
    "if f.readable():\n",
    "    print(\"file is readable\")\n",
    "if f.writable():\n",
    "    print(\"file is writable\")\n",
    "f.close()"
   ]
  },
  {
   "cell_type": "code",
   "execution_count": null,
   "id": "2f119b7a",
   "metadata": {},
   "outputs": [],
   "source": []
  },
  {
   "cell_type": "code",
   "execution_count": null,
   "id": "43d1c7af",
   "metadata": {},
   "outputs": [],
   "source": []
  },
  {
   "cell_type": "code",
   "execution_count": 16,
   "id": "06f55eb4",
   "metadata": {},
   "outputs": [
    {
     "name": "stdout",
     "output_type": "stream",
     "text": [
      "file is writable\n"
     ]
    }
   ],
   "source": [
    "f = open(\"data.txt\", mode = 'w')\n",
    "if f.readable():\n",
    "    print(\"file is readable\")\n",
    "if f.writable():\n",
    "    print(\"file is writable\")\n",
    "f.close()"
   ]
  },
  {
   "cell_type": "code",
   "execution_count": null,
   "id": "4d6a44ee",
   "metadata": {},
   "outputs": [],
   "source": []
  },
  {
   "cell_type": "code",
   "execution_count": null,
   "id": "490c2628",
   "metadata": {},
   "outputs": [],
   "source": []
  },
  {
   "cell_type": "code",
   "execution_count": 17,
   "id": "e41e4c6d",
   "metadata": {},
   "outputs": [
    {
     "name": "stdout",
     "output_type": "stream",
     "text": [
      "False\n",
      "True\n"
     ]
    }
   ],
   "source": [
    "import os\n",
    "print(os.path.isfile(\"hello.txt\"))\n",
    "print(os.path.isfile(\"data.txt\"))"
   ]
  },
  {
   "cell_type": "code",
   "execution_count": null,
   "id": "35ee0d6a",
   "metadata": {},
   "outputs": [],
   "source": []
  },
  {
   "cell_type": "code",
   "execution_count": null,
   "id": "4a141159",
   "metadata": {},
   "outputs": [],
   "source": []
  },
  {
   "cell_type": "code",
   "execution_count": 18,
   "id": "f22f561a",
   "metadata": {},
   "outputs": [],
   "source": [
    "if os.path.isfile(\"data.txt\"):\n",
    "    f = open(\"data.txt\")\n",
    "    # operations\n",
    "    f.close()"
   ]
  },
  {
   "cell_type": "code",
   "execution_count": null,
   "id": "7a9bd4ca",
   "metadata": {},
   "outputs": [],
   "source": []
  },
  {
   "cell_type": "code",
   "execution_count": null,
   "id": "2b324327",
   "metadata": {},
   "outputs": [],
   "source": []
  },
  {
   "cell_type": "code",
   "execution_count": 19,
   "id": "ec22173d",
   "metadata": {},
   "outputs": [],
   "source": [
    "if os.path.isfile(\"hell.txt\"):              # condition is false\n",
    "    f = open(\"data.txt\")\n",
    "    # operations\n",
    "    f.close()"
   ]
  },
  {
   "cell_type": "code",
   "execution_count": null,
   "id": "4c7c4849",
   "metadata": {},
   "outputs": [],
   "source": []
  },
  {
   "cell_type": "code",
   "execution_count": null,
   "id": "e3f70390",
   "metadata": {},
   "outputs": [],
   "source": []
  },
  {
   "cell_type": "code",
   "execution_count": 23,
   "id": "4924e435",
   "metadata": {},
   "outputs": [
    {
     "name": "stdout",
     "output_type": "stream",
     "text": [
      "Enter the file name: data.txt\n",
      "File opened\n",
      "File closed\n"
     ]
    }
   ],
   "source": [
    "file_name = input(\"Enter the file name: \")\n",
    "if os.path.isfile(file_name): \n",
    "    f = open(file_name)\n",
    "    # operations\n",
    "    if f:\n",
    "        print(\"File opened\")\n",
    "    f.close()\n",
    "    if f:\n",
    "        print(\"File closed\")\n",
    "else:\n",
    "    print(\"File does not exist\")"
   ]
  },
  {
   "cell_type": "code",
   "execution_count": null,
   "id": "c8b441f7",
   "metadata": {},
   "outputs": [],
   "source": []
  },
  {
   "cell_type": "code",
   "execution_count": null,
   "id": "ff54b46e",
   "metadata": {},
   "outputs": [],
   "source": []
  },
  {
   "cell_type": "code",
   "execution_count": 27,
   "id": "cd512fd1",
   "metadata": {},
   "outputs": [
    {
     "name": "stdout",
     "output_type": "stream",
     "text": [
      "54\n",
      "Aastha Gupta\n"
     ]
    }
   ],
   "source": [
    "f = open(\"data.txt\", mode = 'r')\n",
    "data = f.read()\n",
    "print(data)\n",
    "f.close()"
   ]
  },
  {
   "cell_type": "code",
   "execution_count": 26,
   "id": "cd41e3bb",
   "metadata": {},
   "outputs": [
    {
     "name": "stdout",
     "output_type": "stream",
     "text": [
      "b'54\\nAastha Gupta'\n"
     ]
    }
   ],
   "source": [
    "f = open(\"data.txt\", mode = \"rb\")\n",
    "data1 = f.read() \n",
    "print(data1)\n",
    "f.close()"
   ]
  },
  {
   "cell_type": "code",
   "execution_count": null,
   "id": "39208c35",
   "metadata": {},
   "outputs": [],
   "source": []
  },
  {
   "cell_type": "code",
   "execution_count": null,
   "id": "28714f05",
   "metadata": {},
   "outputs": [],
   "source": []
  },
  {
   "cell_type": "code",
   "execution_count": 28,
   "id": "c3de9ea1",
   "metadata": {},
   "outputs": [
    {
     "name": "stdout",
     "output_type": "stream",
     "text": [
      "54\n",
      "Aastha Gupta\n"
     ]
    }
   ],
   "source": [
    "f = open(\"data.txt\", mode ='r')\n",
    "data = f.read()\n",
    "print(data)\n",
    "f.close()"
   ]
  },
  {
   "cell_type": "code",
   "execution_count": null,
   "id": "ea84baec",
   "metadata": {},
   "outputs": [],
   "source": []
  },
  {
   "cell_type": "code",
   "execution_count": 29,
   "id": "71889819",
   "metadata": {},
   "outputs": [
    {
     "name": "stdout",
     "output_type": "stream",
     "text": [
      "54\n",
      "A\n"
     ]
    }
   ],
   "source": [
    "f = open(\"data.txt\", mode ='r')\n",
    "data = f.read(4)\n",
    "print(data)\n",
    "f.close()"
   ]
  },
  {
   "cell_type": "code",
   "execution_count": null,
   "id": "a07ebde4",
   "metadata": {},
   "outputs": [],
   "source": []
  },
  {
   "cell_type": "code",
   "execution_count": 34,
   "id": "f801bcdd",
   "metadata": {},
   "outputs": [
    {
     "name": "stdout",
     "output_type": "stream",
     "text": [
      "54\n",
      "Aa\n",
      "stha G\n"
     ]
    }
   ],
   "source": [
    "f = open(\"data.txt\", mode ='r')\n",
    "data = f.read(5)\n",
    "data1 = f.read(6)\n",
    "print(data)\n",
    "print(data1)\n",
    "f.close()"
   ]
  },
  {
   "cell_type": "code",
   "execution_count": null,
   "id": "d86fc5ba",
   "metadata": {},
   "outputs": [],
   "source": []
  },
  {
   "cell_type": "code",
   "execution_count": null,
   "id": "95c5c929",
   "metadata": {},
   "outputs": [],
   "source": []
  },
  {
   "cell_type": "code",
   "execution_count": 35,
   "id": "fd754aa5",
   "metadata": {},
   "outputs": [
    {
     "name": "stdout",
     "output_type": "stream",
     "text": [
      "54\n",
      "\n"
     ]
    }
   ],
   "source": [
    "f = open('data.txt', mode = 'r')\n",
    "data = f.readline()\n",
    "print(data)\n",
    "f.close()"
   ]
  },
  {
   "cell_type": "code",
   "execution_count": null,
   "id": "da789bfd",
   "metadata": {},
   "outputs": [],
   "source": []
  },
  {
   "cell_type": "code",
   "execution_count": 37,
   "id": "9fa41480",
   "metadata": {},
   "outputs": [
    {
     "name": "stdout",
     "output_type": "stream",
     "text": [
      "54\n",
      "\n",
      "Aastha Gupta\n"
     ]
    }
   ],
   "source": [
    "f = open('data.txt', mode = 'r')\n",
    "data = f.readline()\n",
    "data1 = f.readline()\n",
    "print(data)\n",
    "print(data1)\n",
    "f.close()"
   ]
  },
  {
   "cell_type": "code",
   "execution_count": null,
   "id": "4f7b88b6",
   "metadata": {},
   "outputs": [],
   "source": []
  },
  {
   "cell_type": "code",
   "execution_count": 38,
   "id": "44d667f6",
   "metadata": {},
   "outputs": [
    {
     "name": "stdout",
     "output_type": "stream",
     "text": [
      "54\n",
      "Aastha Gupta"
     ]
    }
   ],
   "source": [
    "f = open('data.txt', mode = 'r')\n",
    "data = f.readline()\n",
    "data1 = f.readline()\n",
    "print(data, end='')                    # Using 'end' argument we are nullifying\n",
    "print(data1, end='')                   # the auto '\\n' of print function\n",
    "f.close()"
   ]
  },
  {
   "cell_type": "code",
   "execution_count": null,
   "id": "9d52c25c",
   "metadata": {},
   "outputs": [],
   "source": []
  },
  {
   "cell_type": "code",
   "execution_count": 41,
   "id": "9c294f19",
   "metadata": {},
   "outputs": [
    {
     "name": "stdout",
     "output_type": "stream",
     "text": [
      "5\n",
      "4\n",
      "\n"
     ]
    }
   ],
   "source": [
    "f = open('data.txt', mode = 'r')\n",
    "data = f.readline(1)\n",
    "data1 = f.readline()\n",
    "print(data)\n",
    "print(data1)\n",
    "f.close()"
   ]
  },
  {
   "cell_type": "code",
   "execution_count": null,
   "id": "f9c11e5b",
   "metadata": {},
   "outputs": [],
   "source": []
  },
  {
   "cell_type": "code",
   "execution_count": null,
   "id": "3c52d743",
   "metadata": {},
   "outputs": [],
   "source": []
  },
  {
   "cell_type": "code",
   "execution_count": 42,
   "id": "a3381670",
   "metadata": {},
   "outputs": [
    {
     "name": "stdout",
     "output_type": "stream",
     "text": [
      "['54\\n', 'Aastha Gupta']\n"
     ]
    }
   ],
   "source": [
    "f = open('data.txt', mode = 'r')\n",
    "data = f.readlines()              # It returns a list of all lines in the file\n",
    "print(data)\n",
    "f.close()"
   ]
  },
  {
   "cell_type": "code",
   "execution_count": null,
   "id": "d1babf57",
   "metadata": {},
   "outputs": [],
   "source": []
  },
  {
   "cell_type": "code",
   "execution_count": 44,
   "id": "443b0687",
   "metadata": {},
   "outputs": [
    {
     "name": "stdout",
     "output_type": "stream",
     "text": [
      "54\n",
      "Aastha Gupta"
     ]
    }
   ],
   "source": [
    "f = open('data.txt', mode = 'r')\n",
    "data = f.readlines() \n",
    "for line in data:\n",
    "    print(line, end='')\n",
    "f.close()"
   ]
  },
  {
   "cell_type": "code",
   "execution_count": null,
   "id": "4e911a10",
   "metadata": {},
   "outputs": [],
   "source": []
  },
  {
   "cell_type": "code",
   "execution_count": null,
   "id": "20863fb0",
   "metadata": {},
   "outputs": [],
   "source": []
  },
  {
   "cell_type": "code",
   "execution_count": 45,
   "id": "af0f9eb0",
   "metadata": {},
   "outputs": [
    {
     "name": "stdout",
     "output_type": "stream",
     "text": [
      "['54\\n', 'Aastha Gupta']\n"
     ]
    }
   ],
   "source": [
    "f = open(\"data.txt\", mode='r')\n",
    "print(list(f))"
   ]
  },
  {
   "cell_type": "code",
   "execution_count": null,
   "id": "f50fedcc",
   "metadata": {},
   "outputs": [],
   "source": []
  },
  {
   "cell_type": "code",
   "execution_count": 47,
   "id": "e118ceec",
   "metadata": {},
   "outputs": [
    {
     "name": "stdout",
     "output_type": "stream",
     "text": [
      "54\n",
      "Aastha Gupta"
     ]
    }
   ],
   "source": [
    "f = open(\"data.txt\", mode='r')\n",
    "for line in f:\n",
    "    print(line, end='')\n",
    "f.close()"
   ]
  },
  {
   "cell_type": "code",
   "execution_count": null,
   "id": "ca1fe033",
   "metadata": {},
   "outputs": [],
   "source": []
  },
  {
   "cell_type": "code",
   "execution_count": null,
   "id": "6bb73ac0",
   "metadata": {},
   "outputs": [],
   "source": [
    "  "
   ]
  },
  {
   "cell_type": "code",
   "execution_count": 48,
   "id": "39b8a38d",
   "metadata": {},
   "outputs": [
    {
     "name": "stdout",
     "output_type": "stream",
     "text": [
      "0\n"
     ]
    }
   ],
   "source": [
    "f = open(\"data.txt\", mode = 'r')\n",
    "print(f.tell())                   # Initially cursor is at zero.\n",
    "f.close()"
   ]
  },
  {
   "cell_type": "code",
   "execution_count": null,
   "id": "3d091435",
   "metadata": {},
   "outputs": [],
   "source": []
  },
  {
   "cell_type": "code",
   "execution_count": 49,
   "id": "3ed0b587",
   "metadata": {},
   "outputs": [
    {
     "name": "stdout",
     "output_type": "stream",
     "text": [
      "0\n",
      "5\n",
      "11\n",
      "54\n",
      "Aa\n",
      "11\n",
      "stha G\n",
      "11\n"
     ]
    }
   ],
   "source": [
    "f = open(\"data.txt\", mode ='r')\n",
    "print(f.tell()) \n",
    "data = f.read(5)\n",
    "print(f.tell()) \n",
    "data1 = f.read(6)\n",
    "print(f.tell()) \n",
    "print(data)\n",
    "print(f.tell()) \n",
    "print(data1)\n",
    "print(f.tell()) \n",
    "f.close()"
   ]
  },
  {
   "cell_type": "code",
   "execution_count": null,
   "id": "cb154217",
   "metadata": {},
   "outputs": [],
   "source": []
  },
  {
   "cell_type": "code",
   "execution_count": null,
   "id": "1b2b098e",
   "metadata": {},
   "outputs": [],
   "source": []
  },
  {
   "cell_type": "code",
   "execution_count": 52,
   "id": "70e16f5a",
   "metadata": {},
   "outputs": [
    {
     "name": "stdout",
     "output_type": "stream",
     "text": [
      "0\n",
      "54\n",
      "54\n",
      "Aastha Gupta\n"
     ]
    }
   ],
   "source": [
    "f = open(\"data.txt\", mode = 'r')\n",
    "print(f.tell())  \n",
    "print(f.read(2))\n",
    "f.seek(0)\n",
    "print(f.read())         # Read all characters from start\n",
    "f.close()"
   ]
  },
  {
   "cell_type": "code",
   "execution_count": null,
   "id": "3c95ba6f",
   "metadata": {},
   "outputs": [],
   "source": []
  },
  {
   "cell_type": "code",
   "execution_count": null,
   "id": "35e875aa",
   "metadata": {},
   "outputs": [],
   "source": []
  },
  {
   "cell_type": "code",
   "execution_count": 57,
   "id": "e672dea7",
   "metadata": {},
   "outputs": [
    {
     "name": "stdout",
     "output_type": "stream",
     "text": [
      "Number of strings:  2\n",
      "Number of words:  3\n",
      "Number of characters:  14\n"
     ]
    }
   ],
   "source": [
    "f = open('data.txt', mode = 'r')\n",
    "number_of_words = 0\n",
    "number_of_characters = 0\n",
    "number_of_lines = 0\n",
    "for line in f:\n",
    "    number_of_lines += 1\n",
    "    line = line.strip(\"\\n\")            # Using strip function we don't consider '\\n'\n",
    "    number_of_characters += len(line)\n",
    "    list1 = line.split()               # The split () method splits a string into a list.\n",
    "    number_of_words += len(list1)\n",
    "f.close()\n",
    "print(\"Number of strings: \",number_of_lines)\n",
    "print(\"Number of words: \",number_of_words)\n",
    "print(\"Number of characters: \",number_of_characters)"
   ]
  },
  {
   "cell_type": "code",
   "execution_count": null,
   "id": "ab3358ef",
   "metadata": {},
   "outputs": [],
   "source": []
  },
  {
   "cell_type": "code",
   "execution_count": null,
   "id": "5866b344",
   "metadata": {},
   "outputs": [],
   "source": []
  },
  {
   "cell_type": "code",
   "execution_count": 65,
   "id": "c5e029d0",
   "metadata": {},
   "outputs": [],
   "source": [
    "f = open('data.txt', mode = 'w')\n",
    "\n",
    "f.write(\"23\\nHello world\")\n",
    "f.write('\\nbye bye')         # If I comment ethier of print the it will overwrite on previous data\n",
    "\n",
    "f.close()"
   ]
  },
  {
   "cell_type": "code",
   "execution_count": null,
   "id": "42ffddac",
   "metadata": {},
   "outputs": [],
   "source": []
  },
  {
   "cell_type": "code",
   "execution_count": 67,
   "id": "6a7490b2",
   "metadata": {},
   "outputs": [
    {
     "name": "stdout",
     "output_type": "stream",
     "text": [
      "8\n"
     ]
    }
   ],
   "source": [
    "f = open('data.txt', mode = 'w')\n",
    "\n",
    "f.write(\"23\\nHello world\")\n",
    "n = f.write('\\nbye bye')   \n",
    "print(n)                                # Mode 'w' returns number of characters in a text file \n",
    "f.close()"
   ]
  },
  {
   "cell_type": "code",
   "execution_count": null,
   "id": "bc7afa99",
   "metadata": {},
   "outputs": [],
   "source": []
  },
  {
   "cell_type": "code",
   "execution_count": null,
   "id": "68ce82f6",
   "metadata": {},
   "outputs": [],
   "source": []
  },
  {
   "cell_type": "code",
   "execution_count": 73,
   "id": "7fd9dfaf",
   "metadata": {},
   "outputs": [
    {
     "name": "stdout",
     "output_type": "stream",
     "text": [
      "['23\\n', 'Hello world\\n', 'bye bye']\n"
     ]
    }
   ],
   "source": [
    "f1 = open(\"data.txt\", mode='r', encoding = 'utf-8')\n",
    "f2 = open(\"copy.txt\", mode = 'w', encoding = 'utf-8')\n",
    "print(f1.readlines())\n",
    "for line in f1:\n",
    "    f2.write(line)\n",
    "f1.close()\n",
    "f2.close()"
   ]
  },
  {
   "cell_type": "code",
   "execution_count": null,
   "id": "ffe50846",
   "metadata": {},
   "outputs": [],
   "source": []
  },
  {
   "cell_type": "code",
   "execution_count": 72,
   "id": "9157d802",
   "metadata": {},
   "outputs": [],
   "source": [
    "f1 = open(\"data.txt\", mode='r', encoding = 'utf-8')\n",
    "f2 = open(\"copy.txt\", mode = 'w', encoding = 'utf-8')\n",
    "data = f1.readlines()\n",
    "for line in data:\n",
    "    f2.write(line)\n",
    "f1.close()\n",
    "f2.close()"
   ]
  },
  {
   "cell_type": "code",
   "execution_count": 76,
   "id": "0f576fbb",
   "metadata": {},
   "outputs": [],
   "source": [
    "# Both codes (up '^' and down) are for same reason "
   ]
  },
  {
   "cell_type": "code",
   "execution_count": 75,
   "id": "8833ad9d",
   "metadata": {},
   "outputs": [],
   "source": [
    "f1 = open(\"data.txt\", mode='r', encoding = 'utf-8')\n",
    "f2 = open(\"copy.txt\", mode = 'w', encoding = 'utf-8')\n",
    "for line in f1:\n",
    "    f2.write(line)\n",
    "f1.close()\n",
    "f2.close()"
   ]
  },
  {
   "cell_type": "code",
   "execution_count": null,
   "id": "382a1f08",
   "metadata": {},
   "outputs": [],
   "source": []
  },
  {
   "cell_type": "code",
   "execution_count": null,
   "id": "54eff3c7",
   "metadata": {},
   "outputs": [],
   "source": []
  },
  {
   "cell_type": "code",
   "execution_count": 79,
   "id": "8e192178",
   "metadata": {},
   "outputs": [],
   "source": [
    "f = open(\"copy.txt\", mode = 'w')\n",
    "lines_list = ['ram\\n', 'raj\\n', 'yogesh']\n",
    "f.writelines(lines_list)\n",
    "f.close()"
   ]
  },
  {
   "cell_type": "code",
   "execution_count": null,
   "id": "b28aa9db",
   "metadata": {},
   "outputs": [],
   "source": []
  },
  {
   "cell_type": "code",
   "execution_count": null,
   "id": "dd3fb53d",
   "metadata": {},
   "outputs": [],
   "source": []
  },
  {
   "cell_type": "code",
   "execution_count": 81,
   "id": "953c0507",
   "metadata": {},
   "outputs": [],
   "source": [
    "variable = \"Aastha Gupta\"\n",
    "f = open(\"create.txt\", mode = 'x')    # \"x\" mode to create a new txt file\n",
    "f.write(variable)\n",
    "f.close()"
   ]
  },
  {
   "cell_type": "code",
   "execution_count": null,
   "id": "73a2647c",
   "metadata": {},
   "outputs": [],
   "source": []
  },
  {
   "cell_type": "code",
   "execution_count": null,
   "id": "068a20c2",
   "metadata": {},
   "outputs": [],
   "source": []
  },
  {
   "cell_type": "code",
   "execution_count": null,
   "id": "00bc5fcf",
   "metadata": {},
   "outputs": [],
   "source": [
    "import os\n",
    "files = []                                            # Empty list\n",
    "\n",
    "merged_data = \"\"                                      # Empty string\n",
    "\n",
    "while True:\n",
    "    f_name = input(\"Enter the file name: \")\n",
    "    files.append(f_name)\n",
    "    ans = input(\"Want to add another file? (Y/N): \").upper()   # \"Upper()\" is used if user gives responce in lower case\n",
    "    if ans != 'Y':\n",
    "        break\n",
    "        \n",
    "        \n",
    "for file in files:\n",
    "    filename = file + '.txt'\n",
    "    if os.path.isfile(filename):         # To check if the file exist or not\n",
    "        f = open(filename, mode = 'r', encoding = 'utf-8')\n",
    "        merged_data = merged_data + f.read() + '\\n'       # Concatinating \n",
    "        f.close()\n",
    "\n",
    "print(merged_data)\n",
    "\n",
    "with open(input(\"Enter final file name: \")+'.txt', mode='x',encoding='utf-8') as f:\n",
    "    f.write(merged_data)\n",
    "    print(\"Merging is done, thanks!\")"
   ]
  },
  {
   "cell_type": "code",
   "execution_count": null,
   "id": "4d29c81b",
   "metadata": {},
   "outputs": [],
   "source": []
  },
  {
   "cell_type": "code",
   "execution_count": null,
   "id": "40ca1da5",
   "metadata": {},
   "outputs": [],
   "source": []
  },
  {
   "cell_type": "code",
   "execution_count": 2,
   "id": "772fe14f",
   "metadata": {},
   "outputs": [
    {
     "name": "stdout",
     "output_type": "stream",
     "text": [
      "Enter the path: C:\\Users\\Aastha\\Project sem 5 (Back up on cloud)\\\n",
      "C:/Users/Aastha/Project sem 5 (Back up on cloud)/\n",
      "['.ipynb_checkpoints', 'copy.txt', 'create.txt', 'data.txt', 'file handling.ipynb', 'main.ipynb', 'merged_file.txt', 'S3 storage and management.ipynb']\n"
     ]
    },
    {
     "data": {
      "text/plain": [
       "'\\n\\ndef main():\\n    i = 1\\n    for filename in os.listdir(path):\\n        \\n    \\nmain() \\n\\n\\n'"
      ]
     },
     "execution_count": 2,
     "metadata": {},
     "output_type": "execute_result"
    }
   ],
   "source": [
    "\n",
    "\n",
    "import os\n",
    "\n",
    "path = input(\"Enter the path: \")\n",
    "path = path.replace('\\\\', '/')\n",
    "print(path)\n",
    "\n",
    "print(os.listdir(path))       # list of all files\n",
    "\n",
    "'''\n",
    "\n",
    "def main():\n",
    "    i = 1\n",
    "    for filename in os.listdir(path):\n",
    "        \n",
    "    \n",
    "main() \n",
    "\n",
    "\n",
    "'''"
   ]
  },
  {
   "cell_type": "code",
   "execution_count": null,
   "id": "dff6c980",
   "metadata": {},
   "outputs": [],
   "source": []
  },
  {
   "cell_type": "code",
   "execution_count": null,
   "id": "c2b59361",
   "metadata": {},
   "outputs": [],
   "source": []
  },
  {
   "cell_type": "code",
   "execution_count": null,
   "id": "11d2242a",
   "metadata": {},
   "outputs": [],
   "source": []
  },
  {
   "cell_type": "code",
   "execution_count": null,
   "id": "e69fd3f0",
   "metadata": {},
   "outputs": [],
   "source": []
  },
  {
   "cell_type": "code",
   "execution_count": null,
   "id": "523dcda0",
   "metadata": {},
   "outputs": [],
   "source": []
  }
 ],
 "metadata": {
  "kernelspec": {
   "display_name": "Python 3",
   "language": "python",
   "name": "python3"
  },
  "language_info": {
   "codemirror_mode": {
    "name": "ipython",
    "version": 3
   },
   "file_extension": ".py",
   "mimetype": "text/x-python",
   "name": "python",
   "nbconvert_exporter": "python",
   "pygments_lexer": "ipython3",
   "version": "3.8.8"
  }
 },
 "nbformat": 4,
 "nbformat_minor": 5
}
